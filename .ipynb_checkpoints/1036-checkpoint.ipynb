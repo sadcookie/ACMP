{
 "cells": [
  {
   "cell_type": "code",
   "execution_count": 49,
   "metadata": {},
   "outputs": [
    {
     "name": "stdout",
     "output_type": "stream",
     "text": [
      "10\n",
      "9AAA\n",
      "AAA\n",
      "BBB\n",
      "AAA\n",
      "BBB\n",
      "AAA\n",
      "AAA\n",
      "AAA\n",
      "AAA\n",
      "AAA\n",
      "1\n",
      "CHANGE  9\n",
      "11WWU\n"
     ]
    }
   ],
   "source": [
    "mat = [[0]*36 for i in range(50)]\n",
    "value_list = [0]*100\n",
    "N = int(input())\n",
    "\n",
    "for i in range(N):\n",
    "    c = input()\n",
    "    for index,z in enumerate(c):\n",
    "        acs = ord(z)\n",
    "        if acs < 58:\n",
    "            mat[50+int(index) - len(c)][acs-48] +=1\n",
    "        elif acs >64:\n",
    "            mat[50+int(index)-len(c)][acs-55] +=1\n",
    "            \n",
    "K = int(input())\n",
    "\n",
    "for i in range(K):\n",
    "    MAX = 0\n",
    "    matX = -1\n",
    "    matY = -1\n",
    "    for y in range(len(mat)):\n",
    "        for x in range(len(mat[0])):\n",
    "                if pow(36,49-y)*mat[y][x]*(35-x) > MAX:\n",
    "                    MAX = pow(36,49-y)*mat[y][x]*(35-x)\n",
    "                    matX = x\n",
    "                    matY = y\n",
    "#     print(\"CHANGE \" , matX)\n",
    "    if matX >= 0 and matX < 35:\n",
    "        for y in range(len(mat)):\n",
    "            mat[y][35] += mat[y][matX]\n",
    "            mat[y][matX] = 0\n",
    "\n",
    "for y in range(len(mat)):\n",
    "    summ = 0\n",
    "    for x in range(len(mat[0])):\n",
    "        summ += x*mat[y][x]\n",
    "    \n",
    "    value_list[49-y] = summ\n",
    "\n",
    "for y in range(90):\n",
    "    upper = int(value_list[y]/36)\n",
    "    value_list[y] = value_list[y]%36\n",
    "    value_list[y +1] += upper\n",
    "    \n",
    "#     while upper > 0:\n",
    "#         value_list[idx+count+1] += upper\n",
    "#         count +=1 \n",
    "#         upper = int(upper/36)\n",
    "\n",
    "value_list.reverse()\n",
    "\n",
    "if sum(value_list) is 0:\n",
    "    print(0)\n",
    "else:\n",
    "\n",
    "    for idx,i in enumerate(value_list):\n",
    "        if i < 10:\n",
    "            value_list[idx] = chr(i+48)\n",
    "#             print(i, chr(i+48))\n",
    "        elif i > 9:\n",
    "            value_list[idx] = chr(i+55)\n",
    "#             print(i, chr(i+55))\n",
    "\n",
    "    temp = ''.join(map(str,value_list))\n",
    "    print(temp.strip('0'))"
   ]
  },
  {
   "cell_type": "code",
   "execution_count": null,
   "metadata": {},
   "outputs": [],
   "source": []
  },
  {
   "cell_type": "code",
   "execution_count": null,
   "metadata": {},
   "outputs": [],
   "source": []
  }
 ],
 "metadata": {
  "kernelspec": {
   "display_name": "python3.6-with-tf1.10",
   "language": "python",
   "name": "venv"
  },
  "language_info": {
   "codemirror_mode": {
    "name": "ipython",
    "version": 3
   },
   "file_extension": ".py",
   "mimetype": "text/x-python",
   "name": "python",
   "nbconvert_exporter": "python",
   "pygments_lexer": "ipython3",
   "version": "3.6.7"
  }
 },
 "nbformat": 4,
 "nbformat_minor": 2
}
