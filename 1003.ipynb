{
 "cells": [
  {
   "cell_type": "code",
   "execution_count": 71,
   "metadata": {},
   "outputs": [
    {
     "name": "stdout",
     "output_type": "stream",
     "text": [
      "3\n",
      "0\n",
      "1 0\n",
      "1\n",
      "0 1\n",
      "3\n",
      "1 2\n"
     ]
    }
   ],
   "source": [
    "#dynamic programming\n",
    "#solve with small category\n",
    "\n",
    "# list : init with 0 value\n",
    "list = [0 for i in range(42)]\n",
    "\n",
    "#fibonacci function\n",
    "def fibonacci(n):\n",
    "    if (n == 0):\n",
    "        list[0] +=1\n",
    "        return 0\n",
    "    elif (n == 1):\n",
    "        list[1] +=1\n",
    "        return 1\n",
    "    else :\n",
    "        return fibonacci(n-1) + fibonacci(n-2)\n",
    "\n",
    "# input test case number\n",
    "testCase= int(input())\n",
    "\n",
    "#pre-count the fibonacci result\n",
    "list[0] = 1\n",
    "list[1] = 0\n",
    "for i in range(2,42):\n",
    "    list[i] = list[i-1] + list[i-2]\n",
    "\n",
    "# print the result of problem\n",
    "for t in range(testCase):\n",
    "    inputNumber = int(input())\n",
    "    print(list[inputNumber],list[inputNumber+1])\n"
   ]
  }
 ],
 "metadata": {
  "kernelspec": {
   "display_name": "python3.6-with-tf1.10",
   "language": "python",
   "name": "venv"
  },
  "language_info": {
   "codemirror_mode": {
    "name": "ipython",
    "version": 3
   },
   "file_extension": ".py",
   "mimetype": "text/x-python",
   "name": "python",
   "nbconvert_exporter": "python",
   "pygments_lexer": "ipython3",
   "version": "3.6.7"
  }
 },
 "nbformat": 4,
 "nbformat_minor": 2
}
