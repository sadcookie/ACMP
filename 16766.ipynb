{
 "cells": [
  {
   "cell_type": "markdown",
   "metadata": {},
   "source": [
    "### INCOMPLETE"
   ]
  },
  {
   "cell_type": "code",
   "execution_count": 73,
   "metadata": {},
   "outputs": [
    {
     "name": "stdout",
     "output_type": "stream",
     "text": [
      "6 3 4\n",
      "1 8 9 10 15 33\n",
      "18\n"
     ]
    }
   ],
   "source": [
    "import math\n",
    "N,M,C = input().split()\n",
    "\n",
    "N = int(N)\n",
    "M = int(M)\n",
    "C = int(C)\n",
    "\n",
    "WAITING_TIME = 0\n",
    "\n",
    "arrival_time = []\n",
    "\n",
    "arrival_time = input().split()\n",
    "arrival_time = map(int,arrival_time)\n",
    "arrival_time= sorted(arrival_time)\n",
    "\n",
    "move_time = math.ceil(N/C)\n",
    "\n",
    "for i in range(move_time):\n",
    "    if i == move_time-1:\n",
    "#         WAITING_TIME.append(int(arrival_time[len(arrival_time)-1]) - int(arrival_time[C*i]))\n",
    "        if WAITING_TIME < int(arrival_time[len(arrival_time)-1]) - int(arrival_time[C*i]):\n",
    "            WAITING_TIME = int(arrival_time[len(arrival_time)-1]) - int(arrival_time[C*i])\n",
    "    \n",
    "    else:\n",
    "#         WAITING_TIME.append(int(arrival_time[C*(i+1)-1])- int(arrival_time[C*i]))\n",
    "        if WAITING_TIME < int(arrival_time[C*(i+1)-1])- int(arrival_time[C*i]):\n",
    "            WAITING_TIME = int(arrival_time[C*(i+1)-1])- int(arrival_time[C*i])\n",
    "        \n",
    "print(WAITING_TIME)"
   ]
  }
 ],
 "metadata": {
  "kernelspec": {
   "display_name": "Python 3",
   "language": "python",
   "name": "python3"
  },
  "language_info": {
   "codemirror_mode": {
    "name": "ipython",
    "version": 3
   },
   "file_extension": ".py",
   "mimetype": "text/x-python",
   "name": "python",
   "nbconvert_exporter": "python",
   "pygments_lexer": "ipython3",
   "version": "3.5.2"
  }
 },
 "nbformat": 4,
 "nbformat_minor": 2
}
